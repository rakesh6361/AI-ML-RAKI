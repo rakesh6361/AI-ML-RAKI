{
 "cells": [
  {
   "cell_type": "code",
   "execution_count": 1,
   "id": "00d7d7cc-a121-422e-a4dc-5878e074847f",
   "metadata": {},
   "outputs": [
    {
     "data": {
      "text/html": [
       "<div>\n",
       "<style scoped>\n",
       "    .dataframe tbody tr th:only-of-type {\n",
       "        vertical-align: middle;\n",
       "    }\n",
       "\n",
       "    .dataframe tbody tr th {\n",
       "        vertical-align: top;\n",
       "    }\n",
       "\n",
       "    .dataframe thead th {\n",
       "        text-align: right;\n",
       "    }\n",
       "</style>\n",
       "<table border=\"1\" class=\"dataframe\">\n",
       "  <thead>\n",
       "    <tr style=\"text-align: right;\">\n",
       "      <th></th>\n",
       "      <th>Day</th>\n",
       "      <th>Outlook</th>\n",
       "      <th>Temprature</th>\n",
       "      <th>Humidity</th>\n",
       "      <th>Wind</th>\n",
       "      <th>Play_Tennis</th>\n",
       "    </tr>\n",
       "  </thead>\n",
       "  <tbody>\n",
       "    <tr>\n",
       "      <th>0</th>\n",
       "      <td>D1</td>\n",
       "      <td>Sunny</td>\n",
       "      <td>Hot</td>\n",
       "      <td>High</td>\n",
       "      <td>Weak</td>\n",
       "      <td>No</td>\n",
       "    </tr>\n",
       "    <tr>\n",
       "      <th>1</th>\n",
       "      <td>D2</td>\n",
       "      <td>Sunny</td>\n",
       "      <td>Hot</td>\n",
       "      <td>High</td>\n",
       "      <td>Strong</td>\n",
       "      <td>No</td>\n",
       "    </tr>\n",
       "    <tr>\n",
       "      <th>2</th>\n",
       "      <td>D3</td>\n",
       "      <td>Overcast</td>\n",
       "      <td>Hot</td>\n",
       "      <td>High</td>\n",
       "      <td>Weak</td>\n",
       "      <td>Yes</td>\n",
       "    </tr>\n",
       "    <tr>\n",
       "      <th>3</th>\n",
       "      <td>D4</td>\n",
       "      <td>Rain</td>\n",
       "      <td>Mild</td>\n",
       "      <td>High</td>\n",
       "      <td>Weak</td>\n",
       "      <td>Yes</td>\n",
       "    </tr>\n",
       "    <tr>\n",
       "      <th>4</th>\n",
       "      <td>D5</td>\n",
       "      <td>Rain</td>\n",
       "      <td>Cool</td>\n",
       "      <td>Normal</td>\n",
       "      <td>Weak</td>\n",
       "      <td>Yes</td>\n",
       "    </tr>\n",
       "    <tr>\n",
       "      <th>5</th>\n",
       "      <td>D6</td>\n",
       "      <td>Rain</td>\n",
       "      <td>Cool</td>\n",
       "      <td>Normal</td>\n",
       "      <td>Strong</td>\n",
       "      <td>No</td>\n",
       "    </tr>\n",
       "    <tr>\n",
       "      <th>6</th>\n",
       "      <td>D7</td>\n",
       "      <td>Overcast</td>\n",
       "      <td>Cool</td>\n",
       "      <td>Normal</td>\n",
       "      <td>Strong</td>\n",
       "      <td>Yes</td>\n",
       "    </tr>\n",
       "    <tr>\n",
       "      <th>7</th>\n",
       "      <td>D8</td>\n",
       "      <td>Sunny</td>\n",
       "      <td>Mild</td>\n",
       "      <td>High</td>\n",
       "      <td>Weak</td>\n",
       "      <td>No</td>\n",
       "    </tr>\n",
       "    <tr>\n",
       "      <th>8</th>\n",
       "      <td>D9</td>\n",
       "      <td>Sunny</td>\n",
       "      <td>Cool</td>\n",
       "      <td>Normal</td>\n",
       "      <td>Weak</td>\n",
       "      <td>Yes</td>\n",
       "    </tr>\n",
       "    <tr>\n",
       "      <th>9</th>\n",
       "      <td>D10</td>\n",
       "      <td>Rain</td>\n",
       "      <td>Mild</td>\n",
       "      <td>Normal</td>\n",
       "      <td>Weak</td>\n",
       "      <td>Yes</td>\n",
       "    </tr>\n",
       "    <tr>\n",
       "      <th>10</th>\n",
       "      <td>D11</td>\n",
       "      <td>Sunny</td>\n",
       "      <td>Mild</td>\n",
       "      <td>Normal</td>\n",
       "      <td>Strong</td>\n",
       "      <td>Yes</td>\n",
       "    </tr>\n",
       "    <tr>\n",
       "      <th>11</th>\n",
       "      <td>D12</td>\n",
       "      <td>Overcast</td>\n",
       "      <td>Mild</td>\n",
       "      <td>High</td>\n",
       "      <td>Strong</td>\n",
       "      <td>Yes</td>\n",
       "    </tr>\n",
       "    <tr>\n",
       "      <th>12</th>\n",
       "      <td>D13</td>\n",
       "      <td>Overcast</td>\n",
       "      <td>Hot</td>\n",
       "      <td>Normal</td>\n",
       "      <td>Weak</td>\n",
       "      <td>Yes</td>\n",
       "    </tr>\n",
       "    <tr>\n",
       "      <th>13</th>\n",
       "      <td>D14</td>\n",
       "      <td>Rain</td>\n",
       "      <td>Mild</td>\n",
       "      <td>High</td>\n",
       "      <td>Strong</td>\n",
       "      <td>No</td>\n",
       "    </tr>\n",
       "  </tbody>\n",
       "</table>\n",
       "</div>"
      ],
      "text/plain": [
       "    Day   Outlook Temprature Humidity    Wind Play_Tennis\n",
       "0    D1     Sunny        Hot     High    Weak          No\n",
       "1    D2     Sunny        Hot     High  Strong          No\n",
       "2    D3  Overcast        Hot     High    Weak         Yes\n",
       "3    D4      Rain       Mild     High    Weak         Yes\n",
       "4    D5      Rain       Cool   Normal    Weak         Yes\n",
       "5    D6      Rain       Cool   Normal  Strong          No\n",
       "6    D7  Overcast       Cool   Normal  Strong         Yes\n",
       "7    D8     Sunny       Mild     High    Weak          No\n",
       "8    D9     Sunny       Cool   Normal    Weak         Yes\n",
       "9   D10      Rain       Mild   Normal    Weak         Yes\n",
       "10  D11     Sunny       Mild   Normal  Strong         Yes\n",
       "11  D12  Overcast       Mild     High  Strong         Yes\n",
       "12  D13  Overcast        Hot   Normal    Weak         Yes\n",
       "13  D14      Rain       Mild     High  Strong          No"
      ]
     },
     "execution_count": 1,
     "metadata": {},
     "output_type": "execute_result"
    }
   ],
   "source": [
    "import pandas as pd\n",
    "from sklearn.model_selection import train_test_split\n",
    "from sklearn.tree import DecisionTreeClassifier\n",
    "\n",
    "# Load dataset\n",
    "df = pd.read_csv(\"C:/Users/LENOVO P14S/AIML/ALL DATA SETS/Play Tennis.csv\")\n",
    "df"
   ]
  },
  {
   "cell_type": "code",
   "execution_count": 2,
   "id": "c0510aa4-d6c1-4768-9c13-cbb22b2ce332",
   "metadata": {},
   "outputs": [],
   "source": [
    "# Features (input) and Target (output)\n",
    "X = df.drop(\"Play_Tennis\", axis=1)   # All columns except \"Play\"\n",
    "y = df[\"Play_Tennis\"]"
   ]
  },
  {
   "cell_type": "code",
   "execution_count": 3,
   "id": "be26ef98-b7d7-40e5-9fb2-7796e52b534f",
   "metadata": {},
   "outputs": [
    {
     "name": "stdout",
     "output_type": "stream",
     "text": [
      "Training complete ✅\n"
     ]
    }
   ],
   "source": [
    "# Encode categorical values\n",
    "X = pd.get_dummies(X)\n",
    "\n",
    "# Split dataset\n",
    "X_train, X_test, y_train, y_test = train_test_split(X, y, test_size=0.2, random_state=42)\n",
    "\n",
    "# Train model\n",
    "model = DecisionTreeClassifier()\n",
    "model.fit(X_train, y_train)\n",
    "\n",
    "print(\"Training complete ✅\")\n"
   ]
  },
  {
   "cell_type": "code",
   "execution_count": 4,
   "id": "134e88f9-8dfc-4481-9510-8719d9f4cb34",
   "metadata": {},
   "outputs": [
    {
     "name": "stdout",
     "output_type": "stream",
     "text": [
      "Prediction: No\n"
     ]
    }
   ],
   "source": [
    "# New unseen data\n",
    "new_data = pd.DataFrame([{\n",
    "    \"Outlook\": \"Sunny\",\n",
    "    \"Temperature\": \"Cool\",\n",
    "    \"Humidity\": \"High\",\n",
    "    \"Wind\": \"Strong\"\n",
    "}])\n",
    "\n",
    "# Encode same way as training\n",
    "new_data = pd.get_dummies(new_data)\n",
    "\n",
    "# Align with training columns\n",
    "new_data = new_data.reindex(columns=X.columns, fill_value=0)\n",
    "\n",
    "# Predict\n",
    "prediction = model.predict(new_data)\n",
    "print(\"Prediction:\", prediction[0])\n"
   ]
  },
  {
   "cell_type": "code",
   "execution_count": 5,
   "id": "e1589757-7bdd-4260-9add-16767ece93dd",
   "metadata": {},
   "outputs": [
    {
     "data": {
      "text/plain": [
       "array(['No'], dtype=object)"
      ]
     },
     "execution_count": 5,
     "metadata": {},
     "output_type": "execute_result"
    }
   ],
   "source": [
    "import joblib\n",
    "\n",
    "# Save\n",
    "joblib.dump(model, \"play_tennis_model.pkl\")\n",
    "\n",
    "# Load\n",
    "loaded_model = joblib.load(\"play_tennis_model.pkl\")\n",
    "\n",
    "# Predict again\n",
    "loaded_model.predict(new_data)\n"
   ]
  },
  {
   "cell_type": "code",
   "execution_count": 6,
   "id": "bf09ba8b-246d-4bac-abe3-d4c53c2fd621",
   "metadata": {},
   "outputs": [
    {
     "name": "stdout",
     "output_type": "stream",
     "text": [
      "Prediction: No\n"
     ]
    }
   ],
   "source": [
    "# Example input\n",
    "new_data = pd.DataFrame([{\n",
    "    \"Outlook\": \"Sunny\",\n",
    "    \"Temperature\": \"Cool\",\n",
    "    \"Humidity\": \"High\",\n",
    "    \"Wind\": \"Strong\"\n",
    "}])\n",
    "\n",
    "# Encode + align with training columns\n",
    "new_data = pd.get_dummies(new_data)\n",
    "new_data = new_data.reindex(columns=X.columns, fill_value=0)\n",
    "\n",
    "# Predict\n",
    "prediction = model.predict(new_data)\n",
    "print(\"Prediction:\", prediction[0])\n"
   ]
  },
  {
   "cell_type": "code",
   "execution_count": 7,
   "id": "c339ccff-02d9-4334-a5df-ea87639adf30",
   "metadata": {},
   "outputs": [
    {
     "name": "stdin",
     "output_type": "stream",
     "text": [
      "Enter Outlook (Sunny/Overcast/Rain):  sunny\n",
      "Enter Temperature (Hot/Mild/Cool):  hot\n",
      "Enter Humidity (High/Normal):  high\n",
      "Enter Wind (Weak/Strong):  weak\n"
     ]
    },
    {
     "name": "stdout",
     "output_type": "stream",
     "text": [
      "Prediction: Yes\n"
     ]
    }
   ],
   "source": [
    "outlook = input(\"Enter Outlook (Sunny/Overcast/Rain): \")\n",
    "temperature = input(\"Enter Temperature (Hot/Mild/Cool): \")\n",
    "humidity = input(\"Enter Humidity (High/Normal): \")\n",
    "wind = input(\"Enter Wind (Weak/Strong): \")\n",
    "\n",
    "new_data = pd.DataFrame([{\n",
    "    \"Outlook\": outlook,\n",
    "    \"Temperature\": temperature,\n",
    "    \"Humidity\": humidity,\n",
    "    \"Wind\": wind\n",
    "}])\n",
    "\n",
    "# Encode + align\n",
    "new_data = pd.get_dummies(new_data)\n",
    "new_data = new_data.reindex(columns=X.columns, fill_value=0)\n",
    "\n",
    "prediction = model.predict(new_data)\n",
    "print(\"Prediction:\", prediction[0])\n"
   ]
  },
  {
   "cell_type": "code",
   "execution_count": null,
   "id": "bed43d11-3e49-4d75-880b-ea8ed60dff6f",
   "metadata": {},
   "outputs": [],
   "source": []
  },
  {
   "cell_type": "code",
   "execution_count": null,
   "id": "8659c760-0e56-4214-b72d-f6f397e876f2",
   "metadata": {},
   "outputs": [],
   "source": []
  },
  {
   "cell_type": "code",
   "execution_count": null,
   "id": "27e90ef5-82d8-4914-8fdc-42442a0dbf91",
   "metadata": {},
   "outputs": [],
   "source": []
  },
  {
   "cell_type": "code",
   "execution_count": null,
   "id": "8ac3732b-acca-45ff-b5ed-63b7b5845eb6",
   "metadata": {},
   "outputs": [],
   "source": []
  }
 ],
 "metadata": {
  "kernelspec": {
   "display_name": "Python 3 (ipykernel)",
   "language": "python",
   "name": "python3"
  },
  "language_info": {
   "codemirror_mode": {
    "name": "ipython",
    "version": 3
   },
   "file_extension": ".py",
   "mimetype": "text/x-python",
   "name": "python",
   "nbconvert_exporter": "python",
   "pygments_lexer": "ipython3",
   "version": "3.13.6"
  }
 },
 "nbformat": 4,
 "nbformat_minor": 5
}
