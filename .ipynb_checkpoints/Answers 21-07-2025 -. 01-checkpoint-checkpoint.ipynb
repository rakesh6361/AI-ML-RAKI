{
 "cells": [
  {
   "cell_type": "markdown",
   "metadata": {},
   "source": [
    "# 1) Creating a DataFrame"
   ]
  },
  {
   "cell_type": "code",
   "execution_count": 2,
   "metadata": {},
   "outputs": [
    {
     "name": "stdout",
     "output_type": "stream",
     "text": [
      "   ID    Name  Age  Marks_Math  Marks_English Gender\n",
      "0   1    Riya   17          88             92      F\n",
      "1   2   Arjun   18          75             85      M\n",
      "2   3   Sneha   17          90             89      F\n",
      "3   4  Rakesh   19          65             78      M\n",
      "4   5   Aditi   18          95             70      F\n",
      "5   6    manu   12          23              5      F\n"
     ]
    }
   ],
   "source": [
    "import pandas as pd\n",
    "\n",
    "data={\n",
    "    \"ID\":[1,2,3,4,5,6],\n",
    "    \"Name\":['Riya','Arjun','Sneha','Rakesh','Aditi','manu'],\n",
    "    \"Age\":[17,18,17,19,18,12],\n",
    "    \"Marks_Math\":[88,75,90,65,95,23],\n",
    "    \"Marks_English\":[92,85,89,78,70,5],\n",
    "    \"Gender\":['F','M','F','M','F','F']\n",
    "}\n",
    "df=pd.DataFrame(data)\n",
    "print(df)\n"
   ]
  },
  {
   "cell_type": "code",
   "execution_count": 4,
   "metadata": {},
   "outputs": [
    {
     "data": {
      "text/plain": [
       "(6, 6)"
      ]
     },
     "execution_count": 4,
     "metadata": {},
     "output_type": "execute_result"
    }
   ],
   "source": [
    "df.shape"
   ]
  },
  {
   "cell_type": "markdown",
   "metadata": {},
   "source": [
    "# 2) Display only the names and English marks of all students."
   ]
  },
  {
   "cell_type": "code",
   "execution_count": 5,
   "metadata": {},
   "outputs": [
    {
     "name": "stdout",
     "output_type": "stream",
     "text": [
      "     Name  Marks_English\n",
      "0    Riya             92\n",
      "1   Arjun             85\n",
      "2   Sneha             89\n",
      "3  Rakesh             78\n",
      "4   Aditi             70\n",
      "5    manu              5\n"
     ]
    }
   ],
   "source": [
    "td=(df[[\"Name\",'Marks_English']])\n",
    "print(td)"
   ]
  },
  {
   "cell_type": "markdown",
   "metadata": {},
   "source": [
    "# 3) Add a new column \"Total_Marks\" as the sum of marks math and marks_english "
   ]
  },
  {
   "cell_type": "code",
   "execution_count": 6,
   "metadata": {},
   "outputs": [
    {
     "name": "stdout",
     "output_type": "stream",
     "text": [
      "0    180\n",
      "1    160\n",
      "2    179\n",
      "3    143\n",
      "4    165\n",
      "5     28\n",
      "Name: Total_Marks, dtype: int64\n"
     ]
    }
   ],
   "source": [
    "df[\"Total_Marks\"]=df[\"Marks_Math\"]+df[\"Marks_English\"]\n",
    "print(df[\"Total_Marks\"])"
   ]
  },
  {
   "cell_type": "markdown",
   "metadata": {},
   "source": [
    "# 4) find the Average marks in math using pandas function"
   ]
  },
  {
   "cell_type": "code",
   "execution_count": 7,
   "metadata": {},
   "outputs": [
    {
     "name": "stdout",
     "output_type": "stream",
     "text": [
      "72.66666666666667\n"
     ]
    }
   ],
   "source": [
    "td=df[\"Marks_Math\"].mean()\n",
    "print(td)\n"
   ]
  },
  {
   "cell_type": "markdown",
   "metadata": {},
   "source": [
    "# 5) Display the records of all female students."
   ]
  },
  {
   "cell_type": "code",
   "execution_count": 8,
   "metadata": {},
   "outputs": [
    {
     "name": "stdout",
     "output_type": "stream",
     "text": [
      "   ID   Name  Age  Marks_Math  Marks_English Gender  Total_Marks\n",
      "0   1   Riya   17          88             92      F          180\n",
      "2   3  Sneha   17          90             89      F          179\n",
      "4   5  Aditi   18          95             70      F          165\n",
      "5   6   manu   12          23              5      F           28\n"
     ]
    }
   ],
   "source": [
    "td=(df[df[\"Gender\"]=='F'])\n",
    "print(td)"
   ]
  },
  {
   "cell_type": "markdown",
   "metadata": {},
   "source": [
    "# 6) Sort the DataFrame by Marks_English in desending order."
   ]
  },
  {
   "cell_type": "code",
   "execution_count": 9,
   "metadata": {},
   "outputs": [
    {
     "name": "stdout",
     "output_type": "stream",
     "text": [
      "4    95\n",
      "2    90\n",
      "0    88\n",
      "1    75\n",
      "3    65\n",
      "5    23\n",
      "Name: Marks_Math, dtype: int64\n"
     ]
    }
   ],
   "source": [
    "sd=df[\"Marks_Math\"].sort_values(ascending=False)\n",
    "print(sd)"
   ]
  },
  {
   "cell_type": "markdown",
   "metadata": {},
   "source": [
    "# 7) Replace the gender values : \"F\" \"Female\", \"M\" \"Male\" using map()."
   ]
  },
  {
   "cell_type": "code",
   "execution_count": 10,
   "metadata": {},
   "outputs": [
    {
     "name": "stdout",
     "output_type": "stream",
     "text": [
      "0    Female\n",
      "1      Male\n",
      "2    Female\n",
      "3      Male\n",
      "4    Female\n",
      "5    Female\n",
      "Name: Gender, dtype: object\n"
     ]
    }
   ],
   "source": [
    "\n",
    "Gen=df[\"Gender\"].map({\"F\":\"Female\",\"M\":\"Male\"})\n",
    "print(Gen)"
   ]
  },
  {
   "cell_type": "markdown",
   "metadata": {},
   "source": [
    "# 8) Add a new column Result with value \"Pass\" if Total_Marks >= 150, else \"Fail\" (Using apply()with lambda)."
   ]
  },
  {
   "cell_type": "code",
   "execution_count": 11,
   "metadata": {},
   "outputs": [
    {
     "name": "stdout",
     "output_type": "stream",
     "text": [
      "0    Pass\n",
      "1    Pass\n",
      "2    Pass\n",
      "3    Fail\n",
      "4    Pass\n",
      "5    Fail\n",
      "Name: Total_Marks, dtype: object\n"
     ]
    }
   ],
   "source": [
    "ge=df[\"Total_Marks\"].apply(lambda x : \"Pass\" if x >=150 else 'Fail')\n",
    "print(ge)"
   ]
  },
  {
   "cell_type": "markdown",
   "metadata": {},
   "source": [
    "# 9) Use Map() to convert all names to Upper case from the Name column."
   ]
  },
  {
   "cell_type": "code",
   "execution_count": 12,
   "metadata": {},
   "outputs": [
    {
     "name": "stdout",
     "output_type": "stream",
     "text": [
      "0      RIYA\n",
      "1     ARJUN\n",
      "2     SNEHA\n",
      "3    RAKESH\n",
      "4     ADITI\n",
      "5      MANU\n",
      "Name: Name, dtype: object\n"
     ]
    }
   ],
   "source": [
    "na=df[\"Name\"].map(str.upper)\n",
    "print(na)"
   ]
  },
  {
   "cell_type": "markdown",
   "metadata": {},
   "source": [
    "# 10) Use filter get list of students whose Marks_Math is grater then 80."
   ]
  },
  {
   "cell_type": "code",
   "execution_count": 13,
   "metadata": {},
   "outputs": [
    {
     "data": {
      "text/plain": [
       "[88, 90, 95]"
      ]
     },
     "execution_count": 13,
     "metadata": {},
     "output_type": "execute_result"
    }
   ],
   "source": [
    "def get(a):\n",
    "    if a>80:\n",
    "        return True\n",
    "l1=df[\"Marks_Math\"]\n",
    "res=list(filter(get,l1))\n",
    "res"
   ]
  },
  {
   "cell_type": "markdown",
   "metadata": {},
   "source": [
    "# 11) Use lambda to create a new column."
   ]
  },
  {
   "cell_type": "code",
   "execution_count": 14,
   "metadata": {},
   "outputs": [
    {
     "name": "stdout",
     "output_type": "stream",
     "text": [
      "0    A\n",
      "1    C\n",
      "2    A\n",
      "3    C\n",
      "4    C\n",
      "5    C\n",
      "Name: Total_Marks, dtype: object\n"
     ]
    }
   ],
   "source": [
    "# 1) A if Total_Marks > 170\n",
    "\n",
    "fd=df[\"Grade\"]=df[\"Total_Marks\"].apply(lambda x: \"A\" if x >170 else  \"C\")\n",
    "print(fd)"
   ]
  },
  {
   "cell_type": "code",
   "execution_count": 15,
   "metadata": {},
   "outputs": [
    {
     "name": "stdout",
     "output_type": "stream",
     "text": [
      "0    B\n",
      "1    B\n",
      "2    B\n",
      "3    C\n",
      "4    B\n",
      "5    C\n",
      "Name: Total_Marks, dtype: object\n"
     ]
    }
   ],
   "source": [
    "# 2) B if Total_Marks >150\n",
    "\n",
    "fg=df[\"Grade\"]=df[\"Total_Marks\"].apply(lambda x: \"B\" if x > 150 else \"C\")\n",
    "print(fg)"
   ]
  },
  {
   "cell_type": "markdown",
   "metadata": {},
   "source": [
    "# 12) Use reduce() to calculate the total of all Math marks."
   ]
  },
  {
   "cell_type": "code",
   "execution_count": 16,
   "metadata": {},
   "outputs": [
    {
     "name": "stdout",
     "output_type": "stream",
     "text": [
      "436\n"
     ]
    }
   ],
   "source": [
    "from functools import reduce\n",
    "tm=reduce(lambda x,y: x + y, df['Marks_Math'])\n",
    "print(tm)"
   ]
  },
  {
   "cell_type": "markdown",
   "metadata": {},
   "source": [
    "# 13) Count how many students are below the age of 18."
   ]
  },
  {
   "cell_type": "code",
   "execution_count": 17,
   "metadata": {},
   "outputs": [
    {
     "name": "stdout",
     "output_type": "stream",
     "text": [
      "[17, 17, 12]\n"
     ]
    }
   ],
   "source": [
    "def gef(a):\n",
    "    if a<18:\n",
    "        return True\n",
    "l1=(df[\"Age\"])\n",
    "res=list(filter(gef,l1))\n",
    "print(res)"
   ]
  },
  {
   "cell_type": "markdown",
   "metadata": {},
   "source": [
    "# 14) Create a new column average which gives average of both subjects."
   ]
  },
  {
   "cell_type": "code",
   "execution_count": 18,
   "metadata": {},
   "outputs": [
    {
     "name": "stdout",
     "output_type": "stream",
     "text": [
      "(72.66666666666667, 69.83333333333333)\n"
     ]
    }
   ],
   "source": [
    "nc=df[\"Marks_Math\"].mean() ,df[\"Marks_English\"].mean()\n",
    "print(nc)"
   ]
  },
  {
   "cell_type": "markdown",
   "metadata": {},
   "source": [
    "# 15) Display Names of students whose scored more in English than math."
   ]
  },
  {
   "cell_type": "code",
   "execution_count": 19,
   "metadata": {},
   "outputs": [
    {
     "name": "stdout",
     "output_type": "stream",
     "text": [
      "0     True\n",
      "1     True\n",
      "2    False\n",
      "3     True\n",
      "4    False\n",
      "5    False\n",
      "dtype: bool 0      Riya\n",
      "1     Arjun\n",
      "2     Sneha\n",
      "3    Rakesh\n",
      "4     Aditi\n",
      "5      manu\n",
      "Name: Name, dtype: object\n"
     ]
    }
   ],
   "source": [
    "em= df['Marks_English'] > df[\"Marks_Math\"]\n",
    "print(em,df[\"Name\"])"
   ]
  },
  {
   "cell_type": "markdown",
   "metadata": {},
   "source": [
    "# 16) group students by gender and calculate average marks for each gender."
   ]
  },
  {
   "cell_type": "code",
   "execution_count": 20,
   "metadata": {},
   "outputs": [
    {
     "name": "stdout",
     "output_type": "stream",
     "text": [
      "        Marks_Math  Marks_English  Total_Marks\n",
      "Gender                                        \n",
      "F             74.0           64.0        138.0\n",
      "M             70.0           81.5        151.5\n"
     ]
    }
   ],
   "source": [
    "ag=df.groupby(\"Gender\")[['Marks_Math' , \"Marks_English\" , \"Total_Marks\"]].mean()\n",
    "print(ag)"
   ]
  },
  {
   "cell_type": "markdown",
   "metadata": {},
   "source": [
    "# 17) Find the student with the higest total marks using Pandas."
   ]
  },
  {
   "cell_type": "code",
   "execution_count": 21,
   "metadata": {},
   "outputs": [
    {
     "name": "stdout",
     "output_type": "stream",
     "text": [
      "ID                  1\n",
      "Name             Riya\n",
      "Age                17\n",
      "Marks_Math         88\n",
      "Marks_English      92\n",
      "Gender              F\n",
      "Total_Marks       180\n",
      "Grade               B\n",
      "Name: 0, dtype: object\n"
     ]
    }
   ],
   "source": [
    "st=df.loc[df[\"Total_Marks\"].idxmax()]\n",
    "print(st)"
   ]
  },
  {
   "cell_type": "code",
   "execution_count": null,
   "metadata": {},
   "outputs": [],
   "source": []
  },
  {
   "cell_type": "code",
   "execution_count": null,
   "metadata": {},
   "outputs": [],
   "source": []
  },
  {
   "cell_type": "code",
   "execution_count": null,
   "metadata": {},
   "outputs": [],
   "source": []
  },
  {
   "cell_type": "code",
   "execution_count": null,
   "metadata": {},
   "outputs": [],
   "source": []
  }
 ],
 "metadata": {
  "kernelspec": {
   "display_name": "Python 3 (ipykernel)",
   "language": "python",
   "name": "python3"
  },
  "language_info": {
   "codemirror_mode": {
    "name": "ipython",
    "version": 3
   },
   "file_extension": ".py",
   "mimetype": "text/x-python",
   "name": "python",
   "nbconvert_exporter": "python",
   "pygments_lexer": "ipython3",
   "version": "3.13.6"
  }
 },
 "nbformat": 4,
 "nbformat_minor": 4
}
