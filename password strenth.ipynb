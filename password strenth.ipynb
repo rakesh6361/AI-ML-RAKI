{
 "cells": [
  {
   "cell_type": "code",
   "execution_count": 1,
   "id": "b08ef67c-ebf1-4cfa-bb54-c236d663e448",
   "metadata": {},
   "outputs": [],
   "source": [
    "import re\n",
    "import tkinter as tk\n",
    "from tkinter import messagebox\n",
    "\n",
    "# Function to check password strength\n",
    "def check_password_strength(password: str) -> str:\n",
    "    length_ok = len(password) >= 8\n",
    "    has_lower = re.search(r\"[a-z]\", password) is not None\n",
    "    has_upper = re.search(r\"[A-Z]\", password) is not None\n",
    "    has_digit = re.search(r\"\\d\", password) is not None\n",
    "    has_special = re.search(r\"[!@#$%^&*(),.?\\\":{}|<>\\\\[\\];'`~/_+=-]\", password) is not None\n",
    "\n",
    "    score = sum([length_ok, has_lower, has_upper, has_digit, has_special])\n",
    "\n",
    "    if score == 5:\n",
    "        return \"very strong\"\n",
    "    elif score >= 3:\n",
    "        return \"strong\"\n",
    "    elif score == 2:\n",
    "        return \"weak\"\n",
    "    else:\n",
    "        return \"very weak\"\n",
    "\n",
    "# Function for button click\n",
    "def check_password():\n",
    "    password = entry.get()\n",
    "    strength = check_password_strength(password)\n",
    "\n",
    "    # Change label text and color based on strength\n",
    "    if strength == \"very strong\":\n",
    "        result_label.config(text=f\"Password strength: {strength}\", fg=\"green\")\n",
    "    elif strength == \"strong\":\n",
    "        result_label.config(text=f\"Password strength: {strength}\", fg=\"blue\")\n",
    "    else:\n",
    "        result_label.config(text=f\"Password strength: {strength}\", fg=\"red\")\n",
    "\n",
    "# Create main window\n",
    "root = tk.Tk()\n",
    "root.title(\"Password Strength Checker\")\n",
    "root.geometry(\"600x200\")\n",
    "root.config(bg=\"#f0f0f0\")\n",
    "\n",
    "# Label\n",
    "label = tk.Label(root, text=\"Enter your password:\", font=(\"Arial\", 12), bg=\"#f0f0f0\")\n",
    "label.pack(pady=10)\n",
    "\n",
    "# Entry box\n",
    "entry = tk.Entry(root, show=\"*\", width=30, font=(\"Arial\", 12))\n",
    "entry.pack(pady=5)\n",
    "\n",
    "# Button\n",
    "button = tk.Button(root, text=\"Check Strength\", command=check_password, font=(\"Arial\", 12), bg=\"#4CAF50\", fg=\"white\")\n",
    "button.pack(pady=10)\n",
    "\n",
    "# Result Label\n",
    "result_label = tk.Label(root, text=\"\", font=(\"Arial\", 12, \"bold\"), bg=\"#f0f0f0\")\n",
    "result_label.pack(pady=10)\n",
    "\n",
    "# Run app\n",
    "root.mainloop()\n"
   ]
  },
  {
   "cell_type": "code",
   "execution_count": null,
   "id": "69e2cc7a-695c-4d77-af28-7f49fc7b162b",
   "metadata": {},
   "outputs": [],
   "source": []
  },
  {
   "cell_type": "code",
   "execution_count": null,
   "id": "4e99d509-f0d9-4425-a0da-fff71539b560",
   "metadata": {},
   "outputs": [],
   "source": []
  },
  {
   "cell_type": "code",
   "execution_count": null,
   "id": "81ee7722-c6c1-431f-8e9c-8a6482763dc6",
   "metadata": {},
   "outputs": [],
   "source": []
  }
 ],
 "metadata": {
  "kernelspec": {
   "display_name": "Python 3 (ipykernel)",
   "language": "python",
   "name": "python3"
  },
  "language_info": {
   "codemirror_mode": {
    "name": "ipython",
    "version": 3
   },
   "file_extension": ".py",
   "mimetype": "text/x-python",
   "name": "python",
   "nbconvert_exporter": "python",
   "pygments_lexer": "ipython3",
   "version": "3.13.7"
  }
 },
 "nbformat": 4,
 "nbformat_minor": 5
}
